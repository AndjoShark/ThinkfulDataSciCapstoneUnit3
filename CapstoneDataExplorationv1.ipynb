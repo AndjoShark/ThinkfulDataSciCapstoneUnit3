{
 "cells": [
  {
   "cell_type": "code",
   "execution_count": 1,
   "metadata": {
    "collapsed": true
   },
   "outputs": [],
   "source": [
    "import pandas as pd\n",
    "import numpy as np\n",
    "from matplotlib import pyplot as plt\n",
    "import seaborn as sns\n",
    "from sklearn.linear_model import Ridge\n",
    "from sklearn.linear_model import Lasso\n",
    "from sklearn.linear_model import LinearRegression\n",
    "from sklearn.neighbors import KNeighborsRegressor\n",
    "from sklearn.ensemble import RandomForestRegressor\n",
    "from sklearn.ensemble import GradientBoostingRegressor\n",
    "from sklearn.model_selection import cross_val_score\n",
    "from sklearn.model_selection import GridSearchCV\n",
    "from sklearn.model_selection import train_test_split\n",
    "from sklearn.model_selection import KFold\n",
    "from sklearn.model_selection import cross_val_predict\n",
    "from sklearn.metrics import make_scorer\n",
    "from sklearn.metrics import mean_squared_error\n",
    "from sklearn.metrics import r2_score"
   ]
  },
  {
   "cell_type": "code",
   "execution_count": 2,
   "metadata": {
    "scrolled": true
   },
   "outputs": [
    {
     "data": {
      "text/plain": [
       "(24979, 64)"
      ]
     },
     "execution_count": 2,
     "metadata": {},
     "output_type": "execute_result"
    }
   ],
   "source": [
    "path = '/Users/joshuarkarnad/Desktop/Thinkful/Data/WeaponDataCleanedv2.csv'\n",
    "df = pd.read_csv(path)\n",
    "df.shape"
   ]
  },
  {
   "cell_type": "code",
   "execution_count": 3,
   "metadata": {},
   "outputs": [
    {
     "data": {
      "text/plain": [
       "(2752, 64)"
      ]
     },
     "execution_count": 3,
     "metadata": {},
     "output_type": "execute_result"
    }
   ],
   "source": [
    "path2 = '/Users/joshuarkarnad/Desktop/Thinkful/Data/WeaponDataNoFollowingYears.csv'\n",
    "df_no_outcome = pd.read_csv(path2)\n",
    "df2015 = df_no_outcome[df_no_outcome['Year'] == 2015]\n",
    "df2015.shape"
   ]
  },
  {
   "cell_type": "code",
   "execution_count": 4,
   "metadata": {},
   "outputs": [
    {
     "name": "stdout",
     "output_type": "stream",
     "text": [
      "(22277, 64)\n"
     ]
    },
    {
     "data": {
      "text/plain": [
       "(2702, 64)"
      ]
     },
     "execution_count": 4,
     "metadata": {},
     "output_type": "execute_result"
    }
   ],
   "source": [
    "df2014 = df[df['Year'] == 2014]\n",
    "df = df[df['Year'] < 2014]\n",
    "print(df.shape)\n",
    "df2014.shape"
   ]
  },
  {
   "cell_type": "code",
   "execution_count": 5,
   "metadata": {
    "collapsed": true
   },
   "outputs": [],
   "source": [
    "Y = df.FollowingYearWeapons\n",
    "categorical_col = ['County','LEA Type','Year',\n",
    "                   'School Name']\n",
    "corr_array = []\n",
    "name_array = []\n",
    "for c in df.columns:\n",
    "    if c not in categorical_col:\n",
    "        corr = np.corrcoef(df[c], Y)\n",
    "        name_array.append(c)\n",
    "        corr_array.append(corr[0,1])"
   ]
  },
  {
   "cell_type": "code",
   "execution_count": 6,
   "metadata": {
    "scrolled": false
   },
   "outputs": [
    {
     "name": "stdout",
     "output_type": "stream",
     "text": [
      "FollowingYearWeapons 1.0\n",
      "Offenders 0.57510758587\n",
      "Possession of a Knife 0.562422372644\n",
      "No. of Incidents Involving Local Law Enforcement 0.522260293171\n",
      "Enrollment 0.521217713413\n",
      "Weapon Incidents 0.504144086231\n",
      "Incidents 0.466739733749\n",
      "Drug and Alcohol OSS 0.441904883738\n",
      "Possession/Use of a Controlled Substance 0.428592920386\n",
      "Weapon Expulsion 0.427914902777\n",
      "Total Arrests 0.417694633779\n",
      "Fighting 0.393695139187\n",
      "Weapon OSS 0.378971643937\n",
      "Assignments to Alternative Education 0.378930572051\n",
      "Cutting Instrument 0.369121145124\n",
      "Theft 0.367976155271\n",
      "Threatening a School Official/Student 0.316757240982\n",
      "Conduct OSS 0.304220768526\n",
      "Student Simple 0.300382148252\n",
      "Vandalism 0.29844792929\n",
      "Possession, Use, or Sale of Tobacco 0.294649291375\n",
      "BB/Pellet Gun 0.286955852119\n",
      "Violence Expulsion 0.278018580879\n",
      "Tobacco OSS 0.272093863931\n",
      "Sale/Distribution of a Controlled Substance 0.261478341025\n",
      "Student Aggravated 0.25960200362\n",
      "Other Harrassment/Intimidation 0.255948179006\n",
      "Terroristic Threats 0.246232038743\n",
      "Staff Aggravated 0.244485185819\n",
      "Sale, Possession, Use, or Under the Influence of Alcohol 0.231625145205\n",
      "Drug and Alcohol Expulsion 0.227938450813\n",
      "Violence OSS 0.217837176162\n",
      "Bomb Threats 0.215952988302\n",
      "Sexual Harassment 0.208826980582\n",
      "Disorderly Conduct 0.203501863725\n",
      "Arson 0.198201742681\n",
      "Truancy Rate 0.188025677661\n",
      "Robbery 0.154354969664\n",
      "Indecent Assault 0.150828297434\n",
      "Racial/Ethnic Intimidation 0.143225708087\n",
      "Bullying 0.141913868565\n",
      "Academic OSS 0.131379829882\n",
      "Sexual Assault 0.124709245262\n",
      "Staff Simple 0.120060572565\n",
      "Handgun 0.11812457907\n",
      "Reckless Endangering 0.0975093861527\n",
      "Conduct Expulsion 0.0718527115261\n",
      "Rape 0.0644283943709\n",
      "Explosive 0.0639620190959\n",
      "Rioting 0.0603351544142\n",
      "Burglary 0.0588434811885\n",
      "Unnamed: 0 0.0582506777525\n",
      "Other Firearm 0.0507884661124\n",
      "Tobacco Expulsion 0.0396050168806\n",
      "Involuntary Sexual Deviate Intercourse 0.0385765563633\n",
      "Rifle/Shotgun 0.0352124037385\n",
      "Aggravated Indecent Assault 0.0347362237637\n",
      "Kidnapping/Interference With Custody of Child 0.0327697365021\n",
      "Attempt or Commission of Murder/Manslaughter 0.0127981288007\n",
      "Academic Expulsion 0.00929868739928\n"
     ]
    }
   ],
   "source": [
    "sort_order = np.argsort(corr_array)\n",
    "for num in sort_order[::-1]:\n",
    "    print(name_array[num], corr_array[num])"
   ]
  },
  {
   "cell_type": "code",
   "execution_count": 8,
   "metadata": {},
   "outputs": [
    {
     "data": {
      "image/png": "[encoded data removed]",
      "text/plain": [
       "<matplotlib.figure.Figure at 0x1a175bc860>"
      ]
     },
     "metadata": {},
     "output_type": "display_data"
    }
   ],
   "source": [
    "df_years = df.groupby('Year').mean()\n",
    "fig = plt.figure()\n",
    "plt.plot(df_years['Weapon Incidents'])\n",
    "fig.suptitle('Test', fontsize=20)\n",
    "plt.xlabel('Years', fontsize=18)\n",
    "plt.ylabel('Average Expulsions', fontsize=16)\n",
    "plt.show()"
   ]
  },
  {
   "cell_type": "code",
   "execution_count": 9,
   "metadata": {},
   "outputs": [
    {
     "data": {
      "image/png": "[encoded data removed]",
      "text/plain": [
       "<matplotlib.figure.Figure at 0x1a13470e48>"
      ]
     },
     "metadata": {},
     "output_type": "display_data"
    }
   ],
   "source": [
    "norm = np.random.normal(0, 1, len(df))\n",
    "norm.sort()\n",
    "weap_incidents_sorted = df['Weapon Incidents'].sort_values()\n",
    "plt.plot(norm, df['Weapon Incidents'].sort_values(), \"o\")\n",
    "plt.title('QQ Plot Weapon Incidents')\n",
    "plt.show()"
   ]
  },
  {
   "cell_type": "code",
   "execution_count": 11,
   "metadata": {},
   "outputs": [
    {
     "data": {
      "text/plain": [
       "count         22277\n",
       "unique           67\n",
       "top       Allegheny\n",
       "freq           2036\n",
       "Name: County, dtype: object"
      ]
     },
     "execution_count": 11,
     "metadata": {},
     "output_type": "execute_result"
    }
   ],
   "source": [
    "df['County'].describe()"
   ]
  },
  {
   "cell_type": "code",
   "execution_count": 12,
   "metadata": {},
   "outputs": [
    {
     "data": {
      "text/plain": [
       "count              22277\n",
       "unique              5490\n",
       "top       Central El Sch\n",
       "freq                  34\n",
       "Name: School Name, dtype: object"
      ]
     },
     "execution_count": 12,
     "metadata": {},
     "output_type": "execute_result"
    }
   ],
   "source": [
    "df['School Name'].describe()"
   ]
  },
  {
   "cell_type": "code",
   "execution_count": 13,
   "metadata": {},
   "outputs": [
    {
     "data": {
      "text/plain": [
       "count    22277.000000\n",
       "mean         1.942946\n",
       "std          3.847635\n",
       "min          0.000000\n",
       "25%          0.000000\n",
       "50%          0.000000\n",
       "75%          2.000000\n",
       "max         76.000000\n",
       "Name: FollowingYearWeapons, dtype: float64"
      ]
     },
     "execution_count": 13,
     "metadata": {},
     "output_type": "execute_result"
    }
   ],
   "source": [
    "df['FollowingYearWeapons'].describe()"
   ]
  },
  {
   "cell_type": "code",
   "execution_count": null,
   "metadata": {
    "collapsed": true
   },
   "outputs": [],
   "source": []
  }
 ],
 "metadata": {
  "kernelspec": {
   "display_name": "Python 3",
   "language": "python",
   "name": "python3"
  },
  "language_info": {
   "codemirror_mode": {
    "name": "ipython",
    "version": 3
   },
   "file_extension": ".py",
   "mimetype": "text/x-python",
   "name": "python",
   "nbconvert_exporter": "python",
   "pygments_lexer": "ipython3",
   "version": "3.6.3"
  }
 },
 "nbformat": 4,
 "nbformat_minor": 2
}
